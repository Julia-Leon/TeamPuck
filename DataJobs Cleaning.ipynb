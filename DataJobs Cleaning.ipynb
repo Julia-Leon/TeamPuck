{
 "cells": [
  {
   "cell_type": "code",
   "execution_count": 1,
   "id": "7770584f",
   "metadata": {},
   "outputs": [],
   "source": [
    "import pandas as pd\n",
    "import numpy as np\n",
    "import re\n",
    "\n",
    "data = pd.read_csv(\"alldata.csv\")"
   ]
  },
  {
   "cell_type": "code",
   "execution_count": 2,
   "id": "b816b140",
   "metadata": {},
   "outputs": [
    {
     "data": {
      "text/html": [
       "<div>\n",
       "<style scoped>\n",
       "    .dataframe tbody tr th:only-of-type {\n",
       "        vertical-align: middle;\n",
       "    }\n",
       "\n",
       "    .dataframe tbody tr th {\n",
       "        vertical-align: top;\n",
       "    }\n",
       "\n",
       "    .dataframe thead th {\n",
       "        text-align: right;\n",
       "    }\n",
       "</style>\n",
       "<table border=\"1\" class=\"dataframe\">\n",
       "  <thead>\n",
       "    <tr style=\"text-align: right;\">\n",
       "      <th></th>\n",
       "      <th>position</th>\n",
       "      <th>company</th>\n",
       "      <th>description</th>\n",
       "      <th>reviews</th>\n",
       "      <th>location</th>\n",
       "    </tr>\n",
       "  </thead>\n",
       "  <tbody>\n",
       "    <tr>\n",
       "      <th>0</th>\n",
       "      <td>Development Director</td>\n",
       "      <td>ALS TDI</td>\n",
       "      <td>Development Director\\nALS Therapy Development ...</td>\n",
       "      <td>NaN</td>\n",
       "      <td>Atlanta, GA 30301</td>\n",
       "    </tr>\n",
       "    <tr>\n",
       "      <th>1</th>\n",
       "      <td>An Ostentatiously-Excitable Principal Research...</td>\n",
       "      <td>The Hexagon Lavish</td>\n",
       "      <td>Job Description\\n\\n\"The road that leads to acc...</td>\n",
       "      <td>NaN</td>\n",
       "      <td>Atlanta, GA</td>\n",
       "    </tr>\n",
       "    <tr>\n",
       "      <th>2</th>\n",
       "      <td>Data Scientist</td>\n",
       "      <td>Xpert Staffing</td>\n",
       "      <td>Growing company located in the Atlanta, GA are...</td>\n",
       "      <td>NaN</td>\n",
       "      <td>Atlanta, GA</td>\n",
       "    </tr>\n",
       "    <tr>\n",
       "      <th>3</th>\n",
       "      <td>Data Analyst</td>\n",
       "      <td>Operation HOPE</td>\n",
       "      <td>DEPARTMENT: Program OperationsPOSITION LOCATIO...</td>\n",
       "      <td>44.0</td>\n",
       "      <td>Atlanta, GA 30303</td>\n",
       "    </tr>\n",
       "    <tr>\n",
       "      <th>4</th>\n",
       "      <td>Assistant Professor -TT - Signal Processing &amp; ...</td>\n",
       "      <td>Emory University</td>\n",
       "      <td>DESCRIPTION\\nThe Emory University Department o...</td>\n",
       "      <td>550.0</td>\n",
       "      <td>Atlanta, GA</td>\n",
       "    </tr>\n",
       "    <tr>\n",
       "      <th>...</th>\n",
       "      <td>...</td>\n",
       "      <td>...</td>\n",
       "      <td>...</td>\n",
       "      <td>...</td>\n",
       "      <td>...</td>\n",
       "    </tr>\n",
       "    <tr>\n",
       "      <th>6959</th>\n",
       "      <td>Data Developer / Machine Learning Analyst</td>\n",
       "      <td>NetApp</td>\n",
       "      <td>Are you data-driven? We at NetApp believe in t...</td>\n",
       "      <td>574.0</td>\n",
       "      <td>Sunnyvale, CA</td>\n",
       "    </tr>\n",
       "    <tr>\n",
       "      <th>6960</th>\n",
       "      <td>Scientist I</td>\n",
       "      <td>Pharmacyclics, an Abbvie Company</td>\n",
       "      <td>Pharmacyclics is committed to the development ...</td>\n",
       "      <td>26.0</td>\n",
       "      <td>Sunnyvale, CA</td>\n",
       "    </tr>\n",
       "    <tr>\n",
       "      <th>6961</th>\n",
       "      <td>Intern Scientist</td>\n",
       "      <td>Oath Inc</td>\n",
       "      <td>Oath, a subsidiary of Verizon, is a values-led...</td>\n",
       "      <td>5.0</td>\n",
       "      <td>Sunnyvale, CA</td>\n",
       "    </tr>\n",
       "    <tr>\n",
       "      <th>6962</th>\n",
       "      <td>Senior Data &amp; Applied Scientist</td>\n",
       "      <td>Microsoft</td>\n",
       "      <td>We are the Bing Core Relevance team responsibl...</td>\n",
       "      <td>4618.0</td>\n",
       "      <td>Sunnyvale, CA</td>\n",
       "    </tr>\n",
       "    <tr>\n",
       "      <th>6963</th>\n",
       "      <td>Principal Data Scientist, Deep Learning</td>\n",
       "      <td>Comcast</td>\n",
       "      <td>Comcast’s Technology &amp;amp; Product organizatio...</td>\n",
       "      <td>11610.0</td>\n",
       "      <td>Sunnyvale, CA 94089</td>\n",
       "    </tr>\n",
       "  </tbody>\n",
       "</table>\n",
       "<p>6964 rows × 5 columns</p>\n",
       "</div>"
      ],
      "text/plain": [
       "                                               position  \\\n",
       "0                                  Development Director   \n",
       "1     An Ostentatiously-Excitable Principal Research...   \n",
       "2                                        Data Scientist   \n",
       "3                                          Data Analyst   \n",
       "4     Assistant Professor -TT - Signal Processing & ...   \n",
       "...                                                 ...   \n",
       "6959          Data Developer / Machine Learning Analyst   \n",
       "6960                                        Scientist I   \n",
       "6961                                   Intern Scientist   \n",
       "6962                    Senior Data & Applied Scientist   \n",
       "6963            Principal Data Scientist, Deep Learning   \n",
       "\n",
       "                               company  \\\n",
       "0                              ALS TDI   \n",
       "1                   The Hexagon Lavish   \n",
       "2                       Xpert Staffing   \n",
       "3                       Operation HOPE   \n",
       "4                     Emory University   \n",
       "...                                ...   \n",
       "6959                            NetApp   \n",
       "6960  Pharmacyclics, an Abbvie Company   \n",
       "6961                          Oath Inc   \n",
       "6962                         Microsoft   \n",
       "6963                           Comcast   \n",
       "\n",
       "                                            description  reviews  \\\n",
       "0     Development Director\\nALS Therapy Development ...      NaN   \n",
       "1     Job Description\\n\\n\"The road that leads to acc...      NaN   \n",
       "2     Growing company located in the Atlanta, GA are...      NaN   \n",
       "3     DEPARTMENT: Program OperationsPOSITION LOCATIO...     44.0   \n",
       "4     DESCRIPTION\\nThe Emory University Department o...    550.0   \n",
       "...                                                 ...      ...   \n",
       "6959  Are you data-driven? We at NetApp believe in t...    574.0   \n",
       "6960  Pharmacyclics is committed to the development ...     26.0   \n",
       "6961  Oath, a subsidiary of Verizon, is a values-led...      5.0   \n",
       "6962  We are the Bing Core Relevance team responsibl...   4618.0   \n",
       "6963  Comcast’s Technology &amp; Product organizatio...  11610.0   \n",
       "\n",
       "                 location  \n",
       "0      Atlanta, GA 30301   \n",
       "1             Atlanta, GA  \n",
       "2             Atlanta, GA  \n",
       "3      Atlanta, GA 30303   \n",
       "4             Atlanta, GA  \n",
       "...                   ...  \n",
       "6959        Sunnyvale, CA  \n",
       "6960        Sunnyvale, CA  \n",
       "6961        Sunnyvale, CA  \n",
       "6962        Sunnyvale, CA  \n",
       "6963  Sunnyvale, CA 94089  \n",
       "\n",
       "[6964 rows x 5 columns]"
      ]
     },
     "execution_count": 2,
     "metadata": {},
     "output_type": "execute_result"
    }
   ],
   "source": [
    "data"
   ]
  },
  {
   "cell_type": "code",
   "execution_count": 3,
   "id": "f287b076",
   "metadata": {},
   "outputs": [
    {
     "name": "stdout",
     "output_type": "stream",
     "text": [
      "<class 'pandas.core.frame.DataFrame'>\n",
      "RangeIndex: 6964 entries, 0 to 6963\n",
      "Data columns (total 5 columns):\n",
      " #   Column       Non-Null Count  Dtype  \n",
      "---  ------       --------------  -----  \n",
      " 0   position     6953 non-null   object \n",
      " 1   company      6953 non-null   object \n",
      " 2   description  6953 non-null   object \n",
      " 3   reviews      5326 non-null   float64\n",
      " 4   location     6953 non-null   object \n",
      "dtypes: float64(1), object(4)\n",
      "memory usage: 272.2+ KB\n"
     ]
    }
   ],
   "source": [
    "data.info()"
   ]
  },
  {
   "cell_type": "code",
   "execution_count": 4,
   "id": "f999e7ae",
   "metadata": {},
   "outputs": [],
   "source": [
    "data = data.dropna(how = 'all')"
   ]
  },
  {
   "cell_type": "markdown",
   "id": "547d2b52",
   "metadata": {},
   "source": [
    "## 1. Location"
   ]
  },
  {
   "cell_type": "code",
   "execution_count": 5,
   "id": "b1ec9fa4",
   "metadata": {},
   "outputs": [
    {
     "data": {
      "text/plain": [
       "<bound method Series.unique of 0        Atlanta, GA 30301 \n",
       "1               Atlanta, GA\n",
       "2               Atlanta, GA\n",
       "3        Atlanta, GA 30303 \n",
       "4               Atlanta, GA\n",
       "               ...         \n",
       "6959          Sunnyvale, CA\n",
       "6960          Sunnyvale, CA\n",
       "6961          Sunnyvale, CA\n",
       "6962          Sunnyvale, CA\n",
       "6963    Sunnyvale, CA 94089\n",
       "Name: location, Length: 6953, dtype: object>"
      ]
     },
     "execution_count": 5,
     "metadata": {},
     "output_type": "execute_result"
    }
   ],
   "source": [
    "data['location'].unique"
   ]
  },
  {
   "cell_type": "code",
   "execution_count": 6,
   "id": "98a4f786",
   "metadata": {},
   "outputs": [
    {
     "data": {
      "text/html": [
       "<div>\n",
       "<style scoped>\n",
       "    .dataframe tbody tr th:only-of-type {\n",
       "        vertical-align: middle;\n",
       "    }\n",
       "\n",
       "    .dataframe tbody tr th {\n",
       "        vertical-align: top;\n",
       "    }\n",
       "\n",
       "    .dataframe thead th {\n",
       "        text-align: right;\n",
       "    }\n",
       "</style>\n",
       "<table border=\"1\" class=\"dataframe\">\n",
       "  <thead>\n",
       "    <tr style=\"text-align: right;\">\n",
       "      <th></th>\n",
       "      <th>0</th>\n",
       "    </tr>\n",
       "  </thead>\n",
       "  <tbody>\n",
       "    <tr>\n",
       "      <th>0</th>\n",
       "      <td>Atlanta, GA</td>\n",
       "    </tr>\n",
       "    <tr>\n",
       "      <th>1</th>\n",
       "      <td>Atlanta, GA</td>\n",
       "    </tr>\n",
       "    <tr>\n",
       "      <th>2</th>\n",
       "      <td>Atlanta, GA</td>\n",
       "    </tr>\n",
       "    <tr>\n",
       "      <th>3</th>\n",
       "      <td>Atlanta, GA</td>\n",
       "    </tr>\n",
       "    <tr>\n",
       "      <th>4</th>\n",
       "      <td>Atlanta, GA</td>\n",
       "    </tr>\n",
       "    <tr>\n",
       "      <th>...</th>\n",
       "      <td>...</td>\n",
       "    </tr>\n",
       "    <tr>\n",
       "      <th>6959</th>\n",
       "      <td>Sunnyvale, CA</td>\n",
       "    </tr>\n",
       "    <tr>\n",
       "      <th>6960</th>\n",
       "      <td>Sunnyvale, CA</td>\n",
       "    </tr>\n",
       "    <tr>\n",
       "      <th>6961</th>\n",
       "      <td>Sunnyvale, CA</td>\n",
       "    </tr>\n",
       "    <tr>\n",
       "      <th>6962</th>\n",
       "      <td>Sunnyvale, CA</td>\n",
       "    </tr>\n",
       "    <tr>\n",
       "      <th>6963</th>\n",
       "      <td>Sunnyvale, CA</td>\n",
       "    </tr>\n",
       "  </tbody>\n",
       "</table>\n",
       "<p>6953 rows × 1 columns</p>\n",
       "</div>"
      ],
      "text/plain": [
       "                  0\n",
       "0       Atlanta, GA\n",
       "1       Atlanta, GA\n",
       "2       Atlanta, GA\n",
       "3       Atlanta, GA\n",
       "4       Atlanta, GA\n",
       "...             ...\n",
       "6959  Sunnyvale, CA\n",
       "6960  Sunnyvale, CA\n",
       "6961  Sunnyvale, CA\n",
       "6962  Sunnyvale, CA\n",
       "6963  Sunnyvale, CA\n",
       "\n",
       "[6953 rows x 1 columns]"
      ]
     },
     "execution_count": 6,
     "metadata": {},
     "output_type": "execute_result"
    }
   ],
   "source": [
    "data['location'].str.extract(r'([\\D]+ ?[\\D]+, \\D\\D)')"
   ]
  },
  {
   "cell_type": "code",
   "execution_count": 7,
   "id": "784a8322",
   "metadata": {},
   "outputs": [
    {
     "name": "stderr",
     "output_type": "stream",
     "text": [
      "<ipython-input-7-833737a1dd0b>:1: SettingWithCopyWarning: \n",
      "A value is trying to be set on a copy of a slice from a DataFrame.\n",
      "Try using .loc[row_indexer,col_indexer] = value instead\n",
      "\n",
      "See the caveats in the documentation: https://pandas.pydata.org/pandas-docs/stable/user_guide/indexing.html#returning-a-view-versus-a-copy\n",
      "  data['location_clean'] = data['location'].str.extract(r'([\\D]+ ?[\\D]+, \\D\\D)')\n"
     ]
    }
   ],
   "source": [
    "data['location_clean'] = data['location'].str.extract(r'([\\D]+ ?[\\D]+, \\D\\D)')"
   ]
  },
  {
   "cell_type": "code",
   "execution_count": 8,
   "id": "c0b00e2e",
   "metadata": {},
   "outputs": [
    {
     "data": {
      "text/html": [
       "<div>\n",
       "<style scoped>\n",
       "    .dataframe tbody tr th:only-of-type {\n",
       "        vertical-align: middle;\n",
       "    }\n",
       "\n",
       "    .dataframe tbody tr th {\n",
       "        vertical-align: top;\n",
       "    }\n",
       "\n",
       "    .dataframe thead th {\n",
       "        text-align: right;\n",
       "    }\n",
       "</style>\n",
       "<table border=\"1\" class=\"dataframe\">\n",
       "  <thead>\n",
       "    <tr style=\"text-align: right;\">\n",
       "      <th></th>\n",
       "      <th>position</th>\n",
       "      <th>company</th>\n",
       "      <th>description</th>\n",
       "      <th>reviews</th>\n",
       "      <th>location</th>\n",
       "      <th>location_clean</th>\n",
       "    </tr>\n",
       "  </thead>\n",
       "  <tbody>\n",
       "    <tr>\n",
       "      <th>0</th>\n",
       "      <td>Development Director</td>\n",
       "      <td>ALS TDI</td>\n",
       "      <td>Development Director\\nALS Therapy Development ...</td>\n",
       "      <td>NaN</td>\n",
       "      <td>Atlanta, GA 30301</td>\n",
       "      <td>Atlanta, GA</td>\n",
       "    </tr>\n",
       "    <tr>\n",
       "      <th>1</th>\n",
       "      <td>An Ostentatiously-Excitable Principal Research...</td>\n",
       "      <td>The Hexagon Lavish</td>\n",
       "      <td>Job Description\\n\\n\"The road that leads to acc...</td>\n",
       "      <td>NaN</td>\n",
       "      <td>Atlanta, GA</td>\n",
       "      <td>Atlanta, GA</td>\n",
       "    </tr>\n",
       "    <tr>\n",
       "      <th>2</th>\n",
       "      <td>Data Scientist</td>\n",
       "      <td>Xpert Staffing</td>\n",
       "      <td>Growing company located in the Atlanta, GA are...</td>\n",
       "      <td>NaN</td>\n",
       "      <td>Atlanta, GA</td>\n",
       "      <td>Atlanta, GA</td>\n",
       "    </tr>\n",
       "    <tr>\n",
       "      <th>3</th>\n",
       "      <td>Data Analyst</td>\n",
       "      <td>Operation HOPE</td>\n",
       "      <td>DEPARTMENT: Program OperationsPOSITION LOCATIO...</td>\n",
       "      <td>44.0</td>\n",
       "      <td>Atlanta, GA 30303</td>\n",
       "      <td>Atlanta, GA</td>\n",
       "    </tr>\n",
       "    <tr>\n",
       "      <th>4</th>\n",
       "      <td>Assistant Professor -TT - Signal Processing &amp; ...</td>\n",
       "      <td>Emory University</td>\n",
       "      <td>DESCRIPTION\\nThe Emory University Department o...</td>\n",
       "      <td>550.0</td>\n",
       "      <td>Atlanta, GA</td>\n",
       "      <td>Atlanta, GA</td>\n",
       "    </tr>\n",
       "  </tbody>\n",
       "</table>\n",
       "</div>"
      ],
      "text/plain": [
       "                                            position             company  \\\n",
       "0                               Development Director             ALS TDI   \n",
       "1  An Ostentatiously-Excitable Principal Research...  The Hexagon Lavish   \n",
       "2                                     Data Scientist      Xpert Staffing   \n",
       "3                                       Data Analyst      Operation HOPE   \n",
       "4  Assistant Professor -TT - Signal Processing & ...    Emory University   \n",
       "\n",
       "                                         description  reviews  \\\n",
       "0  Development Director\\nALS Therapy Development ...      NaN   \n",
       "1  Job Description\\n\\n\"The road that leads to acc...      NaN   \n",
       "2  Growing company located in the Atlanta, GA are...      NaN   \n",
       "3  DEPARTMENT: Program OperationsPOSITION LOCATIO...     44.0   \n",
       "4  DESCRIPTION\\nThe Emory University Department o...    550.0   \n",
       "\n",
       "             location location_clean  \n",
       "0  Atlanta, GA 30301     Atlanta, GA  \n",
       "1         Atlanta, GA    Atlanta, GA  \n",
       "2         Atlanta, GA    Atlanta, GA  \n",
       "3  Atlanta, GA 30303     Atlanta, GA  \n",
       "4         Atlanta, GA    Atlanta, GA  "
      ]
     },
     "execution_count": 8,
     "metadata": {},
     "output_type": "execute_result"
    }
   ],
   "source": [
    "data.head()"
   ]
  },
  {
   "cell_type": "markdown",
   "id": "5cccacf1",
   "metadata": {},
   "source": [
    "## Cleaning the set"
   ]
  },
  {
   "cell_type": "markdown",
   "id": "d12b87f9",
   "metadata": {},
   "source": [
    "### Clean Position"
   ]
  },
  {
   "cell_type": "code",
   "execution_count": 9,
   "id": "35aee0b0",
   "metadata": {},
   "outputs": [
    {
     "name": "stderr",
     "output_type": "stream",
     "text": [
      "<ipython-input-9-06c97755beca>:14: SettingWithCopyWarning: \n",
      "A value is trying to be set on a copy of a slice from a DataFrame.\n",
      "Try using .loc[row_indexer,col_indexer] = value instead\n",
      "\n",
      "See the caveats in the documentation: https://pandas.pydata.org/pandas-docs/stable/user_guide/indexing.html#returning-a-view-versus-a-copy\n",
      "  data['clean_position'] = data['position'].apply(position_mapper)\n"
     ]
    }
   ],
   "source": [
    "def position_mapper(x):\n",
    "    x = x.lower()\n",
    "    if 'data scientist' in x or 'scientist' in x or 'data science' in x:\n",
    "        return 'data scientist'\n",
    "    elif 'data engineer'in x or 'data engineering' in x:\n",
    "        return 'data engineer'\n",
    "    elif 'data analyst' in x or 'research analyst' in x or 'analyst' in x or 'data manager' in x:\n",
    "        return 'data analyst'\n",
    "    elif 'software engineer' in x or 'software developer' in x:\n",
    "        return 'software engineer'\n",
    "    else:\n",
    "        return 'other role'\n",
    "\n",
    "data['clean_position'] = data['position'].apply(position_mapper)"
   ]
  },
  {
   "cell_type": "code",
   "execution_count": 10,
   "id": "5a3e3f7d",
   "metadata": {},
   "outputs": [
    {
     "data": {
      "text/plain": [
       "data scientist       2823\n",
       "other role           2759\n",
       "data analyst          851\n",
       "software engineer     343\n",
       "data engineer         177\n",
       "Name: clean_position, dtype: int64"
      ]
     },
     "execution_count": 10,
     "metadata": {},
     "output_type": "execute_result"
    }
   ],
   "source": [
    "data['clean_position'].value_counts()"
   ]
  },
  {
   "cell_type": "markdown",
   "id": "ccc8d8a1",
   "metadata": {},
   "source": [
    "### Clean Location"
   ]
  },
  {
   "cell_type": "code",
   "execution_count": 11,
   "id": "6516880d",
   "metadata": {},
   "outputs": [],
   "source": [
    "def get_city(x): \n",
    "    if x == x:\n",
    "        return x.split(\",\")[0]\n",
    "    else: \n",
    "        return 'none'"
   ]
  },
  {
   "cell_type": "code",
   "execution_count": 12,
   "id": "3c95dc44",
   "metadata": {},
   "outputs": [
    {
     "data": {
      "text/plain": [
       "0         Atlanta\n",
       "1         Atlanta\n",
       "2         Atlanta\n",
       "3         Atlanta\n",
       "4         Atlanta\n",
       "          ...    \n",
       "6959    Sunnyvale\n",
       "6960    Sunnyvale\n",
       "6961    Sunnyvale\n",
       "6962    Sunnyvale\n",
       "6963    Sunnyvale\n",
       "Name: location, Length: 6953, dtype: object"
      ]
     },
     "execution_count": 12,
     "metadata": {},
     "output_type": "execute_result"
    }
   ],
   "source": [
    "data['location'].apply(get_city)"
   ]
  },
  {
   "cell_type": "code",
   "execution_count": 13,
   "id": "673baa95",
   "metadata": {},
   "outputs": [
    {
     "name": "stderr",
     "output_type": "stream",
     "text": [
      "<ipython-input-13-6fa5bc64d36f>:1: SettingWithCopyWarning: \n",
      "A value is trying to be set on a copy of a slice from a DataFrame.\n",
      "Try using .loc[row_indexer,col_indexer] = value instead\n",
      "\n",
      "See the caveats in the documentation: https://pandas.pydata.org/pandas-docs/stable/user_guide/indexing.html#returning-a-view-versus-a-copy\n",
      "  data['city'] = data['location'].apply(get_city)\n"
     ]
    }
   ],
   "source": [
    "data['city'] = data['location'].apply(get_city)"
   ]
  },
  {
   "cell_type": "code",
   "execution_count": 14,
   "id": "578c5bb4",
   "metadata": {},
   "outputs": [
    {
     "data": {
      "text/plain": [
       "0       GA\n",
       "1       GA\n",
       "2       GA\n",
       "3       GA\n",
       "4       GA\n",
       "        ..\n",
       "6959    CA\n",
       "6960    CA\n",
       "6961    CA\n",
       "6962    CA\n",
       "6963    CA\n",
       "Name: location, Length: 6953, dtype: object"
      ]
     },
     "execution_count": 14,
     "metadata": {},
     "output_type": "execute_result"
    }
   ],
   "source": [
    "def get_state(x): \n",
    "    if x == x:\n",
    "        return x.split(\",\")[1].strip()[:2]\n",
    "    else: \n",
    "        return 'none'\n",
    "    \n",
    "data['location'].apply(get_state)"
   ]
  },
  {
   "cell_type": "code",
   "execution_count": 15,
   "id": "24e5525b",
   "metadata": {},
   "outputs": [
    {
     "name": "stderr",
     "output_type": "stream",
     "text": [
      "<ipython-input-15-8e5daec2230e>:1: SettingWithCopyWarning: \n",
      "A value is trying to be set on a copy of a slice from a DataFrame.\n",
      "Try using .loc[row_indexer,col_indexer] = value instead\n",
      "\n",
      "See the caveats in the documentation: https://pandas.pydata.org/pandas-docs/stable/user_guide/indexing.html#returning-a-view-versus-a-copy\n",
      "  data['state'] = data['location'].apply(get_state)\n"
     ]
    }
   ],
   "source": [
    "data['state'] = data['location'].apply(get_state)"
   ]
  },
  {
   "cell_type": "markdown",
   "id": "30573b09",
   "metadata": {},
   "source": [
    "### Clean Descriptions"
   ]
  },
  {
   "cell_type": "markdown",
   "id": "8f496149",
   "metadata": {},
   "source": [
    "We will be looking for these skills:\n",
    "- python\n",
    "- statistics\n",
    "- modeling\n",
    "- programming\n",
    "- SQL\n",
    "- excel\n",
    "- java\n",
    "\n",
    "We will be looking for these characteristics:\n",
    "- Bachelor's Degree\n",
    "- Master's Degree\n",
    "- PhD\n",
    "- Experience in years"
   ]
  },
  {
   "cell_type": "code",
   "execution_count": 16,
   "id": "86579956",
   "metadata": {},
   "outputs": [
    {
     "data": {
      "text/plain": [
       "0     Development Director\\nALS Therapy Development ...\n",
       "1     Job Description\\n\\n\"The road that leads to acc...\n",
       "2     Growing company located in the Atlanta, GA are...\n",
       "3     DEPARTMENT: Program OperationsPOSITION LOCATIO...\n",
       "4     DESCRIPTION\\nThe Emory University Department o...\n",
       "5     Qualifications\\nBachelor’s degree in Computer ...\n",
       "6     Qualifications\\nBachelor’s degree\\n5-7 years o...\n",
       "7     Overview / Responsibilities\\nWood Environment ...\n",
       "8     Works closely with senior CIB professionals. P...\n",
       "9     Known for being a great place to work and buil...\n",
       "10    :\\n\\nThe Statistical Forecast Analyst position...\n",
       "11    Chenega Professional &amp; Technical Services,...\n",
       "12    Innovate. Collaborate. Shine. Lighthouse — KPM...\n",
       "13    DESCRIPTION\\nUnder minimal supervision, the As...\n",
       "14    Data Science Analyst– Business Intelligence\\nL...\n",
       "15    Cotiviti is looking for an industry leading Da...\n",
       "16    Description\\nExecutes complex assignments requ...\n",
       "17    Overview\\n\\n\\n\\nAt Perficient you’ll deliver m...\n",
       "18    DATA SCIENTIST\\n\\nSUMMARY:\\nAs an Amazon Web S...\n",
       "19    This position is critical to understanding dri...\n",
       "Name: description, dtype: object"
      ]
     },
     "execution_count": 16,
     "metadata": {},
     "output_type": "execute_result"
    }
   ],
   "source": [
    "data['description'].head(20)"
   ]
  },
  {
   "cell_type": "markdown",
   "id": "f02f82aa",
   "metadata": {},
   "source": [
    "### Use regex to extract different skills like python from description\n",
    "\n",
    "For each column I have used .extract first to check the value groups e.g. Python, python, PYTHON.\n",
    "After that I used .contains to create a column that returns True or False"
   ]
  },
  {
   "cell_type": "code",
   "execution_count": 17,
   "id": "b6adf4c9",
   "metadata": {},
   "outputs": [
    {
     "name": "stderr",
     "output_type": "stream",
     "text": [
      "<ipython-input-17-7ef36db3e4eb>:1: SettingWithCopyWarning: \n",
      "A value is trying to be set on a copy of a slice from a DataFrame.\n",
      "Try using .loc[row_indexer,col_indexer] = value instead\n",
      "\n",
      "See the caveats in the documentation: https://pandas.pydata.org/pandas-docs/stable/user_guide/indexing.html#returning-a-view-versus-a-copy\n",
      "  data['python'] = data['description'].str.extract(r'(\\bpython\\b)', flags = re.IGNORECASE)\n"
     ]
    }
   ],
   "source": [
    "data['python'] = data['description'].str.extract(r'(\\bpython\\b)', flags = re.IGNORECASE)"
   ]
  },
  {
   "cell_type": "code",
   "execution_count": 18,
   "id": "7bddcf6f",
   "metadata": {},
   "outputs": [
    {
     "data": {
      "text/plain": [
       "Python    2707\n",
       "python     114\n",
       "PYTHON       2\n",
       "Name: python, dtype: int64"
      ]
     },
     "execution_count": 18,
     "metadata": {},
     "output_type": "execute_result"
    }
   ],
   "source": [
    "data['python'].value_counts()"
   ]
  },
  {
   "cell_type": "code",
   "execution_count": 19,
   "id": "a844ad18",
   "metadata": {},
   "outputs": [
    {
     "name": "stderr",
     "output_type": "stream",
     "text": [
      "/Users/andrenovikov/opt/anaconda3/envs/DataBootcamp/lib/python3.8/site-packages/pandas/core/strings/accessor.py:101: UserWarning: This pattern has match groups. To actually get the groups, use str.extract.\n",
      "  return func(self, *args, **kwargs)\n",
      "<ipython-input-19-98848658d9e9>:1: SettingWithCopyWarning: \n",
      "A value is trying to be set on a copy of a slice from a DataFrame.\n",
      "Try using .loc[row_indexer,col_indexer] = value instead\n",
      "\n",
      "See the caveats in the documentation: https://pandas.pydata.org/pandas-docs/stable/user_guide/indexing.html#returning-a-view-versus-a-copy\n",
      "  data['python'] = data['description'].str.contains(r'(\\bpython\\b)', flags = re.IGNORECASE)\n"
     ]
    }
   ],
   "source": [
    "data['python'] = data['description'].str.contains(r'(\\bpython\\b)', flags = re.IGNORECASE)"
   ]
  },
  {
   "cell_type": "code",
   "execution_count": 20,
   "id": "3a2bfd5d",
   "metadata": {},
   "outputs": [
    {
     "name": "stderr",
     "output_type": "stream",
     "text": [
      "<ipython-input-20-c7dff2e96dbf>:1: SettingWithCopyWarning: \n",
      "A value is trying to be set on a copy of a slice from a DataFrame.\n",
      "Try using .loc[row_indexer,col_indexer] = value instead\n",
      "\n",
      "See the caveats in the documentation: https://pandas.pydata.org/pandas-docs/stable/user_guide/indexing.html#returning-a-view-versus-a-copy\n",
      "  data['statistics'] = data['description'].str.extract(r'(\\bstatistics\\b)', flags = re.IGNORECASE)\n"
     ]
    }
   ],
   "source": [
    "data['statistics'] = data['description'].str.extract(r'(\\bstatistics\\b)', flags = re.IGNORECASE)"
   ]
  },
  {
   "cell_type": "code",
   "execution_count": 21,
   "id": "6800fe25",
   "metadata": {},
   "outputs": [
    {
     "data": {
      "text/plain": [
       "statistics    1143\n",
       "Statistics     869\n",
       "Name: statistics, dtype: int64"
      ]
     },
     "execution_count": 21,
     "metadata": {},
     "output_type": "execute_result"
    }
   ],
   "source": [
    "data['statistics'].value_counts()"
   ]
  },
  {
   "cell_type": "code",
   "execution_count": 22,
   "id": "1e5361a1",
   "metadata": {},
   "outputs": [
    {
     "name": "stderr",
     "output_type": "stream",
     "text": [
      "<ipython-input-22-2a52fdb9b5d4>:1: SettingWithCopyWarning: \n",
      "A value is trying to be set on a copy of a slice from a DataFrame.\n",
      "Try using .loc[row_indexer,col_indexer] = value instead\n",
      "\n",
      "See the caveats in the documentation: https://pandas.pydata.org/pandas-docs/stable/user_guide/indexing.html#returning-a-view-versus-a-copy\n",
      "  data['statistics'] = data['description'].str.contains(r'(\\bstatistics\\b)', flags = re.IGNORECASE)\n"
     ]
    }
   ],
   "source": [
    "data['statistics'] = data['description'].str.contains(r'(\\bstatistics\\b)', flags = re.IGNORECASE)"
   ]
  },
  {
   "cell_type": "code",
   "execution_count": 23,
   "id": "f86ae050",
   "metadata": {},
   "outputs": [
    {
     "name": "stderr",
     "output_type": "stream",
     "text": [
      "<ipython-input-23-c542293f6067>:1: SettingWithCopyWarning: \n",
      "A value is trying to be set on a copy of a slice from a DataFrame.\n",
      "Try using .loc[row_indexer,col_indexer] = value instead\n",
      "\n",
      "See the caveats in the documentation: https://pandas.pydata.org/pandas-docs/stable/user_guide/indexing.html#returning-a-view-versus-a-copy\n",
      "  data['mathematics'] = data['description'].str.extract(r'(\\bmathematic)', flags = re.IGNORECASE)\n"
     ]
    },
    {
     "data": {
      "text/plain": [
       "mathematic    750\n",
       "Mathematic    699\n",
       "MATHEMATIC      1\n",
       "Name: mathematics, dtype: int64"
      ]
     },
     "execution_count": 23,
     "metadata": {},
     "output_type": "execute_result"
    }
   ],
   "source": [
    "data['mathematics'] = data['description'].str.extract(r'(\\bmathematic)', flags = re.IGNORECASE)\n",
    "data['mathematics'].value_counts()"
   ]
  },
  {
   "cell_type": "code",
   "execution_count": 24,
   "id": "a4093517",
   "metadata": {},
   "outputs": [
    {
     "name": "stderr",
     "output_type": "stream",
     "text": [
      "<ipython-input-24-2cbff26aeed8>:1: SettingWithCopyWarning: \n",
      "A value is trying to be set on a copy of a slice from a DataFrame.\n",
      "Try using .loc[row_indexer,col_indexer] = value instead\n",
      "\n",
      "See the caveats in the documentation: https://pandas.pydata.org/pandas-docs/stable/user_guide/indexing.html#returning-a-view-versus-a-copy\n",
      "  data['mathematics'] = data['description'].str.contains(r'(\\bmathematic)', flags = re.IGNORECASE)\n"
     ]
    }
   ],
   "source": [
    "data['mathematics'] = data['description'].str.contains(r'(\\bmathematic)', flags = re.IGNORECASE)"
   ]
  },
  {
   "cell_type": "code",
   "execution_count": 25,
   "id": "cc139256",
   "metadata": {},
   "outputs": [
    {
     "name": "stderr",
     "output_type": "stream",
     "text": [
      "<ipython-input-25-49469bdc9471>:1: SettingWithCopyWarning: \n",
      "A value is trying to be set on a copy of a slice from a DataFrame.\n",
      "Try using .loc[row_indexer,col_indexer] = value instead\n",
      "\n",
      "See the caveats in the documentation: https://pandas.pydata.org/pandas-docs/stable/user_guide/indexing.html#returning-a-view-versus-a-copy\n",
      "  data['java'] = data['description'].str.extract(r'(\\bjava\\b)', flags = re.IGNORECASE)\n"
     ]
    }
   ],
   "source": [
    "data['java'] = data['description'].str.extract(r'(\\bjava\\b)', flags = re.IGNORECASE)"
   ]
  },
  {
   "cell_type": "code",
   "execution_count": 26,
   "id": "eadc79ce",
   "metadata": {},
   "outputs": [
    {
     "data": {
      "text/plain": [
       "Java    1209\n",
       "JAVA      17\n",
       "java       9\n",
       "Name: java, dtype: int64"
      ]
     },
     "execution_count": 26,
     "metadata": {},
     "output_type": "execute_result"
    }
   ],
   "source": [
    "data['java'].value_counts()"
   ]
  },
  {
   "cell_type": "code",
   "execution_count": 27,
   "id": "238431cc",
   "metadata": {},
   "outputs": [
    {
     "name": "stderr",
     "output_type": "stream",
     "text": [
      "<ipython-input-27-5079389c7068>:1: SettingWithCopyWarning: \n",
      "A value is trying to be set on a copy of a slice from a DataFrame.\n",
      "Try using .loc[row_indexer,col_indexer] = value instead\n",
      "\n",
      "See the caveats in the documentation: https://pandas.pydata.org/pandas-docs/stable/user_guide/indexing.html#returning-a-view-versus-a-copy\n",
      "  data['java'] = data['description'].str.contains(r'(\\bjava\\b)', flags = re.IGNORECASE)\n"
     ]
    }
   ],
   "source": [
    "data['java'] = data['description'].str.contains(r'(\\bjava\\b)', flags = re.IGNORECASE)"
   ]
  },
  {
   "cell_type": "code",
   "execution_count": 28,
   "id": "380a7c84",
   "metadata": {},
   "outputs": [
    {
     "name": "stderr",
     "output_type": "stream",
     "text": [
      "<ipython-input-28-97026b833ca0>:1: SettingWithCopyWarning: \n",
      "A value is trying to be set on a copy of a slice from a DataFrame.\n",
      "Try using .loc[row_indexer,col_indexer] = value instead\n",
      "\n",
      "See the caveats in the documentation: https://pandas.pydata.org/pandas-docs/stable/user_guide/indexing.html#returning-a-view-versus-a-copy\n",
      "  data['sql'] = data['description'].str.extract(r'(\\bSQL\\b)', flags = re.IGNORECASE)\n"
     ]
    }
   ],
   "source": [
    "data['sql'] = data['description'].str.extract(r'(\\bSQL\\b)', flags = re.IGNORECASE)"
   ]
  },
  {
   "cell_type": "code",
   "execution_count": 29,
   "id": "721d3e5f",
   "metadata": {},
   "outputs": [
    {
     "data": {
      "text/plain": [
       "SQL    1676\n",
       "sql       9\n",
       "Sql       5\n",
       "SQl       1\n",
       "Name: sql, dtype: int64"
      ]
     },
     "execution_count": 29,
     "metadata": {},
     "output_type": "execute_result"
    }
   ],
   "source": [
    "data['sql'].value_counts()"
   ]
  },
  {
   "cell_type": "code",
   "execution_count": 30,
   "id": "f59a8a79",
   "metadata": {},
   "outputs": [
    {
     "name": "stderr",
     "output_type": "stream",
     "text": [
      "<ipython-input-30-a4288ec3f28a>:1: SettingWithCopyWarning: \n",
      "A value is trying to be set on a copy of a slice from a DataFrame.\n",
      "Try using .loc[row_indexer,col_indexer] = value instead\n",
      "\n",
      "See the caveats in the documentation: https://pandas.pydata.org/pandas-docs/stable/user_guide/indexing.html#returning-a-view-versus-a-copy\n",
      "  data['sql'] = data['description'].str.contains(r'(\\bsql\\b)', flags = re.IGNORECASE)\n"
     ]
    }
   ],
   "source": [
    "data['sql'] = data['description'].str.contains(r'(\\bsql\\b)', flags = re.IGNORECASE)"
   ]
  },
  {
   "cell_type": "code",
   "execution_count": 31,
   "id": "ffa552fd",
   "metadata": {},
   "outputs": [
    {
     "name": "stderr",
     "output_type": "stream",
     "text": [
      "<ipython-input-31-05753fb66a6a>:1: SettingWithCopyWarning: \n",
      "A value is trying to be set on a copy of a slice from a DataFrame.\n",
      "Try using .loc[row_indexer,col_indexer] = value instead\n",
      "\n",
      "See the caveats in the documentation: https://pandas.pydata.org/pandas-docs/stable/user_guide/indexing.html#returning-a-view-versus-a-copy\n",
      "  data['excel'] = data['description'].str.extract(r'(\\bexcel\\b)', flags = re.IGNORECASE)\n"
     ]
    }
   ],
   "source": [
    "data['excel'] = data['description'].str.extract(r'(\\bexcel\\b)', flags = re.IGNORECASE)"
   ]
  },
  {
   "cell_type": "code",
   "execution_count": 32,
   "id": "ec4f886e",
   "metadata": {},
   "outputs": [
    {
     "data": {
      "text/plain": [
       "Excel    862\n",
       "excel    122\n",
       "EXCEL      7\n",
       "Name: excel, dtype: int64"
      ]
     },
     "execution_count": 32,
     "metadata": {},
     "output_type": "execute_result"
    }
   ],
   "source": [
    "data['excel'].value_counts()"
   ]
  },
  {
   "cell_type": "code",
   "execution_count": 33,
   "id": "2883bb87",
   "metadata": {},
   "outputs": [
    {
     "name": "stderr",
     "output_type": "stream",
     "text": [
      "<ipython-input-33-bd5e10943b89>:1: SettingWithCopyWarning: \n",
      "A value is trying to be set on a copy of a slice from a DataFrame.\n",
      "Try using .loc[row_indexer,col_indexer] = value instead\n",
      "\n",
      "See the caveats in the documentation: https://pandas.pydata.org/pandas-docs/stable/user_guide/indexing.html#returning-a-view-versus-a-copy\n",
      "  data['excel'] = data['description'].str.contains(r'(\\bexcel\\b)', flags = re.IGNORECASE)\n"
     ]
    }
   ],
   "source": [
    "data['excel'] = data['description'].str.contains(r'(\\bexcel\\b)', flags = re.IGNORECASE)"
   ]
  },
  {
   "cell_type": "code",
   "execution_count": 34,
   "id": "4218962d",
   "metadata": {},
   "outputs": [
    {
     "name": "stderr",
     "output_type": "stream",
     "text": [
      "<ipython-input-34-8ddb46adff54>:1: SettingWithCopyWarning: \n",
      "A value is trying to be set on a copy of a slice from a DataFrame.\n",
      "Try using .loc[row_indexer,col_indexer] = value instead\n",
      "\n",
      "See the caveats in the documentation: https://pandas.pydata.org/pandas-docs/stable/user_guide/indexing.html#returning-a-view-versus-a-copy\n",
      "  data['modeling'] = data['description'].str.extract(r'(\\bmodeling\\b)', flags = re.IGNORECASE)\n"
     ]
    }
   ],
   "source": [
    "data['modeling'] = data['description'].str.extract(r'(\\bmodeling\\b)', flags = re.IGNORECASE)"
   ]
  },
  {
   "cell_type": "code",
   "execution_count": 35,
   "id": "cf677252",
   "metadata": {},
   "outputs": [
    {
     "name": "stderr",
     "output_type": "stream",
     "text": [
      "<ipython-input-35-6a43c86448a8>:1: SettingWithCopyWarning: \n",
      "A value is trying to be set on a copy of a slice from a DataFrame.\n",
      "Try using .loc[row_indexer,col_indexer] = value instead\n",
      "\n",
      "See the caveats in the documentation: https://pandas.pydata.org/pandas-docs/stable/user_guide/indexing.html#returning-a-view-versus-a-copy\n",
      "  data['modeling'] = data['description'].str.contains(r'(\\bmodeling\\b)', flags = re.IGNORECASE)\n"
     ]
    }
   ],
   "source": [
    "data['modeling'] = data['description'].str.contains(r'(\\bmodeling\\b)', flags = re.IGNORECASE)"
   ]
  },
  {
   "cell_type": "code",
   "execution_count": 36,
   "id": "a160b23e",
   "metadata": {},
   "outputs": [
    {
     "name": "stderr",
     "output_type": "stream",
     "text": [
      "<ipython-input-36-c7dff2e96dbf>:1: SettingWithCopyWarning: \n",
      "A value is trying to be set on a copy of a slice from a DataFrame.\n",
      "Try using .loc[row_indexer,col_indexer] = value instead\n",
      "\n",
      "See the caveats in the documentation: https://pandas.pydata.org/pandas-docs/stable/user_guide/indexing.html#returning-a-view-versus-a-copy\n",
      "  data['statistics'] = data['description'].str.extract(r'(\\bstatistics\\b)', flags = re.IGNORECASE)\n"
     ]
    }
   ],
   "source": [
    "data['statistics'] = data['description'].str.extract(r'(\\bstatistics\\b)', flags = re.IGNORECASE)"
   ]
  },
  {
   "cell_type": "code",
   "execution_count": 37,
   "id": "1bab1b8b",
   "metadata": {},
   "outputs": [
    {
     "name": "stderr",
     "output_type": "stream",
     "text": [
      "<ipython-input-37-2a52fdb9b5d4>:1: SettingWithCopyWarning: \n",
      "A value is trying to be set on a copy of a slice from a DataFrame.\n",
      "Try using .loc[row_indexer,col_indexer] = value instead\n",
      "\n",
      "See the caveats in the documentation: https://pandas.pydata.org/pandas-docs/stable/user_guide/indexing.html#returning-a-view-versus-a-copy\n",
      "  data['statistics'] = data['description'].str.contains(r'(\\bstatistics\\b)', flags = re.IGNORECASE)\n"
     ]
    }
   ],
   "source": [
    "data['statistics'] = data['description'].str.contains(r'(\\bstatistics\\b)', flags = re.IGNORECASE)"
   ]
  },
  {
   "cell_type": "code",
   "execution_count": 38,
   "id": "2215cdd3",
   "metadata": {},
   "outputs": [
    {
     "data": {
      "text/html": [
       "<div>\n",
       "<style scoped>\n",
       "    .dataframe tbody tr th:only-of-type {\n",
       "        vertical-align: middle;\n",
       "    }\n",
       "\n",
       "    .dataframe tbody tr th {\n",
       "        vertical-align: top;\n",
       "    }\n",
       "\n",
       "    .dataframe thead th {\n",
       "        text-align: right;\n",
       "    }\n",
       "</style>\n",
       "<table border=\"1\" class=\"dataframe\">\n",
       "  <thead>\n",
       "    <tr style=\"text-align: right;\">\n",
       "      <th></th>\n",
       "      <th>position</th>\n",
       "      <th>company</th>\n",
       "      <th>description</th>\n",
       "      <th>reviews</th>\n",
       "      <th>location</th>\n",
       "      <th>location_clean</th>\n",
       "      <th>clean_position</th>\n",
       "      <th>city</th>\n",
       "      <th>state</th>\n",
       "      <th>python</th>\n",
       "      <th>statistics</th>\n",
       "      <th>mathematics</th>\n",
       "      <th>java</th>\n",
       "      <th>sql</th>\n",
       "      <th>excel</th>\n",
       "      <th>modeling</th>\n",
       "    </tr>\n",
       "  </thead>\n",
       "  <tbody>\n",
       "    <tr>\n",
       "      <th>0</th>\n",
       "      <td>Development Director</td>\n",
       "      <td>ALS TDI</td>\n",
       "      <td>Development Director\\nALS Therapy Development ...</td>\n",
       "      <td>NaN</td>\n",
       "      <td>Atlanta, GA 30301</td>\n",
       "      <td>Atlanta, GA</td>\n",
       "      <td>other role</td>\n",
       "      <td>Atlanta</td>\n",
       "      <td>GA</td>\n",
       "      <td>False</td>\n",
       "      <td>False</td>\n",
       "      <td>False</td>\n",
       "      <td>False</td>\n",
       "      <td>False</td>\n",
       "      <td>False</td>\n",
       "      <td>False</td>\n",
       "    </tr>\n",
       "    <tr>\n",
       "      <th>1</th>\n",
       "      <td>An Ostentatiously-Excitable Principal Research...</td>\n",
       "      <td>The Hexagon Lavish</td>\n",
       "      <td>Job Description\\n\\n\"The road that leads to acc...</td>\n",
       "      <td>NaN</td>\n",
       "      <td>Atlanta, GA</td>\n",
       "      <td>Atlanta, GA</td>\n",
       "      <td>data scientist</td>\n",
       "      <td>Atlanta</td>\n",
       "      <td>GA</td>\n",
       "      <td>False</td>\n",
       "      <td>True</td>\n",
       "      <td>True</td>\n",
       "      <td>False</td>\n",
       "      <td>False</td>\n",
       "      <td>False</td>\n",
       "      <td>True</td>\n",
       "    </tr>\n",
       "    <tr>\n",
       "      <th>2</th>\n",
       "      <td>Data Scientist</td>\n",
       "      <td>Xpert Staffing</td>\n",
       "      <td>Growing company located in the Atlanta, GA are...</td>\n",
       "      <td>NaN</td>\n",
       "      <td>Atlanta, GA</td>\n",
       "      <td>Atlanta, GA</td>\n",
       "      <td>data scientist</td>\n",
       "      <td>Atlanta</td>\n",
       "      <td>GA</td>\n",
       "      <td>True</td>\n",
       "      <td>False</td>\n",
       "      <td>False</td>\n",
       "      <td>True</td>\n",
       "      <td>True</td>\n",
       "      <td>False</td>\n",
       "      <td>True</td>\n",
       "    </tr>\n",
       "    <tr>\n",
       "      <th>3</th>\n",
       "      <td>Data Analyst</td>\n",
       "      <td>Operation HOPE</td>\n",
       "      <td>DEPARTMENT: Program OperationsPOSITION LOCATIO...</td>\n",
       "      <td>44.0</td>\n",
       "      <td>Atlanta, GA 30303</td>\n",
       "      <td>Atlanta, GA</td>\n",
       "      <td>data analyst</td>\n",
       "      <td>Atlanta</td>\n",
       "      <td>GA</td>\n",
       "      <td>True</td>\n",
       "      <td>False</td>\n",
       "      <td>False</td>\n",
       "      <td>False</td>\n",
       "      <td>True</td>\n",
       "      <td>False</td>\n",
       "      <td>True</td>\n",
       "    </tr>\n",
       "    <tr>\n",
       "      <th>4</th>\n",
       "      <td>Assistant Professor -TT - Signal Processing &amp; ...</td>\n",
       "      <td>Emory University</td>\n",
       "      <td>DESCRIPTION\\nThe Emory University Department o...</td>\n",
       "      <td>550.0</td>\n",
       "      <td>Atlanta, GA</td>\n",
       "      <td>Atlanta, GA</td>\n",
       "      <td>other role</td>\n",
       "      <td>Atlanta</td>\n",
       "      <td>GA</td>\n",
       "      <td>False</td>\n",
       "      <td>False</td>\n",
       "      <td>False</td>\n",
       "      <td>False</td>\n",
       "      <td>False</td>\n",
       "      <td>False</td>\n",
       "      <td>False</td>\n",
       "    </tr>\n",
       "  </tbody>\n",
       "</table>\n",
       "</div>"
      ],
      "text/plain": [
       "                                            position             company  \\\n",
       "0                               Development Director             ALS TDI   \n",
       "1  An Ostentatiously-Excitable Principal Research...  The Hexagon Lavish   \n",
       "2                                     Data Scientist      Xpert Staffing   \n",
       "3                                       Data Analyst      Operation HOPE   \n",
       "4  Assistant Professor -TT - Signal Processing & ...    Emory University   \n",
       "\n",
       "                                         description  reviews  \\\n",
       "0  Development Director\\nALS Therapy Development ...      NaN   \n",
       "1  Job Description\\n\\n\"The road that leads to acc...      NaN   \n",
       "2  Growing company located in the Atlanta, GA are...      NaN   \n",
       "3  DEPARTMENT: Program OperationsPOSITION LOCATIO...     44.0   \n",
       "4  DESCRIPTION\\nThe Emory University Department o...    550.0   \n",
       "\n",
       "             location location_clean  clean_position     city state  python  \\\n",
       "0  Atlanta, GA 30301     Atlanta, GA      other role  Atlanta    GA   False   \n",
       "1         Atlanta, GA    Atlanta, GA  data scientist  Atlanta    GA   False   \n",
       "2         Atlanta, GA    Atlanta, GA  data scientist  Atlanta    GA    True   \n",
       "3  Atlanta, GA 30303     Atlanta, GA    data analyst  Atlanta    GA    True   \n",
       "4         Atlanta, GA    Atlanta, GA      other role  Atlanta    GA   False   \n",
       "\n",
       "   statistics  mathematics   java    sql  excel  modeling  \n",
       "0       False        False  False  False  False     False  \n",
       "1        True         True  False  False  False      True  \n",
       "2       False        False   True   True  False      True  \n",
       "3       False        False  False   True  False      True  \n",
       "4       False        False  False  False  False     False  "
      ]
     },
     "execution_count": 38,
     "metadata": {},
     "output_type": "execute_result"
    }
   ],
   "source": [
    "data.head()"
   ]
  },
  {
   "cell_type": "code",
   "execution_count": 39,
   "id": "4e37dd14",
   "metadata": {},
   "outputs": [
    {
     "name": "stderr",
     "output_type": "stream",
     "text": [
      "<ipython-input-39-bb24d460edbe>:1: SettingWithCopyWarning: \n",
      "A value is trying to be set on a copy of a slice from a DataFrame.\n",
      "Try using .loc[row_indexer,col_indexer] = value instead\n",
      "\n",
      "See the caveats in the documentation: https://pandas.pydata.org/pandas-docs/stable/user_guide/indexing.html#returning-a-view-versus-a-copy\n",
      "  data['c++'] = data['description'].str.extract(r'([.C]\\+\\+)', flags = re.IGNORECASE)\n"
     ]
    },
    {
     "data": {
      "text/plain": [
       "C++    966\n",
       "c++      1\n",
       "Name: c++, dtype: int64"
      ]
     },
     "execution_count": 39,
     "metadata": {},
     "output_type": "execute_result"
    }
   ],
   "source": [
    "data['c++'] = data['description'].str.extract(r'([.C]\\+\\+)', flags = re.IGNORECASE)\n",
    "data['c++'].value_counts()"
   ]
  },
  {
   "cell_type": "code",
   "execution_count": 40,
   "id": "84a4c19d",
   "metadata": {},
   "outputs": [
    {
     "name": "stderr",
     "output_type": "stream",
     "text": [
      "/Users/andrenovikov/opt/anaconda3/envs/DataBootcamp/lib/python3.8/site-packages/pandas/core/strings/accessor.py:101: UserWarning: This pattern has match groups. To actually get the groups, use str.extract.\n",
      "  return func(self, *args, **kwargs)\n",
      "<ipython-input-40-6679b32542fa>:1: SettingWithCopyWarning: \n",
      "A value is trying to be set on a copy of a slice from a DataFrame.\n",
      "Try using .loc[row_indexer,col_indexer] = value instead\n",
      "\n",
      "See the caveats in the documentation: https://pandas.pydata.org/pandas-docs/stable/user_guide/indexing.html#returning-a-view-versus-a-copy\n",
      "  data['c++'] = data['description'].str.contains(r'([.C]\\+\\+)', flags = re.IGNORECASE)\n"
     ]
    }
   ],
   "source": [
    "data['c++'] = data['description'].str.contains(r'([.C]\\+\\+)', flags = re.IGNORECASE)"
   ]
  },
  {
   "cell_type": "code",
   "execution_count": 41,
   "id": "1144f08c",
   "metadata": {},
   "outputs": [
    {
     "name": "stderr",
     "output_type": "stream",
     "text": [
      "<ipython-input-41-d5956eaf2e0e>:1: SettingWithCopyWarning: \n",
      "A value is trying to be set on a copy of a slice from a DataFrame.\n",
      "Try using .loc[row_indexer,col_indexer] = value instead\n",
      "\n",
      "See the caveats in the documentation: https://pandas.pydata.org/pandas-docs/stable/user_guide/indexing.html#returning-a-view-versus-a-copy\n",
      "  data['r'] = data['description'].str.extract(r'(\\s[R]\\s)', flags = re.IGNORECASE)\n"
     ]
    },
    {
     "data": {
      "text/plain": [
       " R      515\n",
       " R\\n     93\n",
       "\\nR       6\n",
       " r        3\n",
       "Name: r, dtype: int64"
      ]
     },
     "execution_count": 41,
     "metadata": {},
     "output_type": "execute_result"
    }
   ],
   "source": [
    "data['r'] = data['description'].str.extract(r'(\\s[R]\\s)', flags = re.IGNORECASE)\n",
    "data['r'].value_counts()"
   ]
  },
  {
   "cell_type": "code",
   "execution_count": 42,
   "id": "3ae40d7d",
   "metadata": {},
   "outputs": [
    {
     "name": "stderr",
     "output_type": "stream",
     "text": [
      "<ipython-input-42-20734be66868>:1: SettingWithCopyWarning: \n",
      "A value is trying to be set on a copy of a slice from a DataFrame.\n",
      "Try using .loc[row_indexer,col_indexer] = value instead\n",
      "\n",
      "See the caveats in the documentation: https://pandas.pydata.org/pandas-docs/stable/user_guide/indexing.html#returning-a-view-versus-a-copy\n",
      "  data['r'] = data['description'].str.contains(r'(\\s[.R]\\s)', flags = re.IGNORECASE)\n"
     ]
    }
   ],
   "source": [
    "data['r'] = data['description'].str.contains(r'(\\s[.R]\\s)', flags = re.IGNORECASE)"
   ]
  },
  {
   "cell_type": "code",
   "execution_count": 43,
   "id": "d4ad3a38",
   "metadata": {},
   "outputs": [
    {
     "name": "stderr",
     "output_type": "stream",
     "text": [
      "<ipython-input-43-c3f3657f0d18>:1: SettingWithCopyWarning: \n",
      "A value is trying to be set on a copy of a slice from a DataFrame.\n",
      "Try using .loc[row_indexer,col_indexer] = value instead\n",
      "\n",
      "See the caveats in the documentation: https://pandas.pydata.org/pandas-docs/stable/user_guide/indexing.html#returning-a-view-versus-a-copy\n",
      "  data['visualization'] = data['description'].str.extract(r'(\\bvisualization\\b)', flags = re.IGNORECASE)\n"
     ]
    },
    {
     "data": {
      "text/plain": [
       "visualization    798\n",
       "Visualization     68\n",
       "Name: visualization, dtype: int64"
      ]
     },
     "execution_count": 43,
     "metadata": {},
     "output_type": "execute_result"
    }
   ],
   "source": [
    "data['visualization'] = data['description'].str.extract(r'(\\bvisualization\\b)', flags = re.IGNORECASE)\n",
    "data['visualization'].value_counts()"
   ]
  },
  {
   "cell_type": "code",
   "execution_count": 44,
   "id": "008e01fc",
   "metadata": {},
   "outputs": [
    {
     "name": "stderr",
     "output_type": "stream",
     "text": [
      "<ipython-input-44-1845f7dc9df5>:1: SettingWithCopyWarning: \n",
      "A value is trying to be set on a copy of a slice from a DataFrame.\n",
      "Try using .loc[row_indexer,col_indexer] = value instead\n",
      "\n",
      "See the caveats in the documentation: https://pandas.pydata.org/pandas-docs/stable/user_guide/indexing.html#returning-a-view-versus-a-copy\n",
      "  data['visualization'] = data['description'].str.contains(r'(\\bvisualization\\b)', flags = re.IGNORECASE)\n"
     ]
    }
   ],
   "source": [
    "data['visualization'] = data['description'].str.contains(r'(\\bvisualization\\b)', flags = re.IGNORECASE)"
   ]
  },
  {
   "cell_type": "code",
   "execution_count": 45,
   "id": "5f8037e1",
   "metadata": {},
   "outputs": [
    {
     "name": "stderr",
     "output_type": "stream",
     "text": [
      "<ipython-input-45-b282b1711eda>:1: SettingWithCopyWarning: \n",
      "A value is trying to be set on a copy of a slice from a DataFrame.\n",
      "Try using .loc[row_indexer,col_indexer] = value instead\n",
      "\n",
      "See the caveats in the documentation: https://pandas.pydata.org/pandas-docs/stable/user_guide/indexing.html#returning-a-view-versus-a-copy\n",
      "  data['ml'] = data['description'].str.extract(r'(\\bmachine\\slearning\\b)', flags = re.IGNORECASE)\n"
     ]
    },
    {
     "data": {
      "text/plain": [
       "machine learning     1778\n",
       "Machine Learning      621\n",
       "Machine learning       44\n",
       "MACHINE LEARNING        3\n",
       "machine\\nlearning       1\n",
       "Name: ml, dtype: int64"
      ]
     },
     "execution_count": 45,
     "metadata": {},
     "output_type": "execute_result"
    }
   ],
   "source": [
    "data['ml'] = data['description'].str.extract(r'(\\bmachine\\slearning\\b)', flags = re.IGNORECASE)\n",
    "data['ml'].value_counts()"
   ]
  },
  {
   "cell_type": "code",
   "execution_count": 46,
   "id": "fc671698",
   "metadata": {},
   "outputs": [
    {
     "name": "stderr",
     "output_type": "stream",
     "text": [
      "<ipython-input-46-2b6f0ce75a50>:1: SettingWithCopyWarning: \n",
      "A value is trying to be set on a copy of a slice from a DataFrame.\n",
      "Try using .loc[row_indexer,col_indexer] = value instead\n",
      "\n",
      "See the caveats in the documentation: https://pandas.pydata.org/pandas-docs/stable/user_guide/indexing.html#returning-a-view-versus-a-copy\n",
      "  data['ml'] = data['description'].str.contains(r'(\\bmachine\\slearning\\b)', flags = re.IGNORECASE)\n"
     ]
    }
   ],
   "source": [
    "data['ml'] = data['description'].str.contains(r'(\\bmachine\\slearning\\b)', flags = re.IGNORECASE)"
   ]
  },
  {
   "cell_type": "code",
   "execution_count": 47,
   "id": "d3733c8e",
   "metadata": {},
   "outputs": [
    {
     "name": "stderr",
     "output_type": "stream",
     "text": [
      "<ipython-input-47-dfc3bb0cf2ec>:1: SettingWithCopyWarning: \n",
      "A value is trying to be set on a copy of a slice from a DataFrame.\n",
      "Try using .loc[row_indexer,col_indexer] = value instead\n",
      "\n",
      "See the caveats in the documentation: https://pandas.pydata.org/pandas-docs/stable/user_guide/indexing.html#returning-a-view-versus-a-copy\n",
      "  data['ai'] = data['description'].str.extract(r'(\\bartificial\\sintelligence\\b)', flags = re.IGNORECASE)\n"
     ]
    },
    {
     "data": {
      "text/plain": [
       "artificial intelligence    286\n",
       "Artificial Intelligence    192\n",
       "Artificial intelligence      6\n",
       "Name: ai, dtype: int64"
      ]
     },
     "execution_count": 47,
     "metadata": {},
     "output_type": "execute_result"
    }
   ],
   "source": [
    "data['ai'] = data['description'].str.extract(r'(\\bartificial\\sintelligence\\b)', flags = re.IGNORECASE)\n",
    "data['ai'].value_counts()"
   ]
  },
  {
   "cell_type": "code",
   "execution_count": 48,
   "id": "b7036df7",
   "metadata": {},
   "outputs": [
    {
     "name": "stderr",
     "output_type": "stream",
     "text": [
      "<ipython-input-48-7ad89df93e53>:1: SettingWithCopyWarning: \n",
      "A value is trying to be set on a copy of a slice from a DataFrame.\n",
      "Try using .loc[row_indexer,col_indexer] = value instead\n",
      "\n",
      "See the caveats in the documentation: https://pandas.pydata.org/pandas-docs/stable/user_guide/indexing.html#returning-a-view-versus-a-copy\n",
      "  data['ai'] = data['description'].str.contains(r'(\\bartificial\\sintelligence\\b)', flags = re.IGNORECASE)\n"
     ]
    }
   ],
   "source": [
    "data['ai'] = data['description'].str.contains(r'(\\bartificial\\sintelligence\\b)', flags = re.IGNORECASE)"
   ]
  },
  {
   "cell_type": "markdown",
   "id": "6730fc67",
   "metadata": {},
   "source": [
    "### Get the different degrees (graduation titles) from the description\n",
    "\n",
    "Could have done this with regex probably, but decided to try a different mechanism:\n",
    "1. Replaced null values in the description column, so there are no more floats\n",
    "2. Created a function that loops through the column and checks for degree titles saved in some lists\n",
    "3. Apply this as a lamda function to create a new column that says true or false if the description includes a degree"
   ]
  },
  {
   "cell_type": "code",
   "execution_count": 49,
   "id": "d306e63b",
   "metadata": {},
   "outputs": [
    {
     "name": "stderr",
     "output_type": "stream",
     "text": [
      "<ipython-input-49-a8c0ed18c220>:1: SettingWithCopyWarning: \n",
      "A value is trying to be set on a copy of a slice from a DataFrame.\n",
      "Try using .loc[row_indexer,col_indexer] = value instead\n",
      "\n",
      "See the caveats in the documentation: https://pandas.pydata.org/pandas-docs/stable/user_guide/indexing.html#returning-a-view-versus-a-copy\n",
      "  data['description'] = data['description'].fillna('No description')\n"
     ]
    }
   ],
   "source": [
    "data['description'] = data['description'].fillna('No description')"
   ]
  },
  {
   "cell_type": "code",
   "execution_count": 50,
   "id": "f91c60bc",
   "metadata": {},
   "outputs": [
    {
     "name": "stderr",
     "output_type": "stream",
     "text": [
      "<ipython-input-50-380df3d794a3>:1: SettingWithCopyWarning: \n",
      "A value is trying to be set on a copy of a slice from a DataFrame.\n",
      "Try using .loc[row_indexer,col_indexer] = value instead\n",
      "\n",
      "See the caveats in the documentation: https://pandas.pydata.org/pandas-docs/stable/user_guide/indexing.html#returning-a-view-versus-a-copy\n",
      "  data['reviews'] = data['reviews'].fillna(0)\n"
     ]
    }
   ],
   "source": [
    "data['reviews'] = data['reviews'].fillna(0)"
   ]
  },
  {
   "cell_type": "code",
   "execution_count": 51,
   "id": "03a7cb5e",
   "metadata": {},
   "outputs": [
    {
     "data": {
      "text/plain": [
       "(6953, 21)"
      ]
     },
     "execution_count": 51,
     "metadata": {},
     "output_type": "execute_result"
    }
   ],
   "source": [
    "data.shape"
   ]
  },
  {
   "cell_type": "code",
   "execution_count": 52,
   "id": "2548036f",
   "metadata": {},
   "outputs": [],
   "source": [
    "#Create a function that takes a column and a list as input and returns true or false if it finds the value or not\n",
    "\n",
    "phd_degrees = [\"phd\", \"ph.d.\", \"dr\"]\n",
    "bachelor_degrees = [\"bachelor\", \"bachelors's\", \"BA\", \"B.Sc\", \"BSc\"]\n",
    "master_degrees = [\"master\", \"masters's\", \"MA\", \"M.Sc\", \"MSc\"]\n",
    "\n",
    "def degree_mapper(x, degree_list):\n",
    "    x = x.lower()\n",
    "    for degree in degree_list:\n",
    "        return degree in x\n",
    "            "
   ]
  },
  {
   "cell_type": "code",
   "execution_count": 53,
   "id": "30d91458",
   "metadata": {},
   "outputs": [
    {
     "name": "stderr",
     "output_type": "stream",
     "text": [
      "<ipython-input-53-a74d19e92646>:4: SettingWithCopyWarning: \n",
      "A value is trying to be set on a copy of a slice from a DataFrame.\n",
      "Try using .loc[row_indexer,col_indexer] = value instead\n",
      "\n",
      "See the caveats in the documentation: https://pandas.pydata.org/pandas-docs/stable/user_guide/indexing.html#returning-a-view-versus-a-copy\n",
      "  data['has_phd'] = data['description'].apply(lambda x: degree_mapper(x, phd_degrees))\n"
     ]
    }
   ],
   "source": [
    "#Use a lambda function to apply the function to the column per list\n",
    "#Just using the function with .apply would not work, since it would only accept one input, but the function has 2\n",
    "\n",
    "data['has_phd'] = data['description'].apply(lambda x: degree_mapper(x, phd_degrees))"
   ]
  },
  {
   "cell_type": "code",
   "execution_count": 54,
   "id": "c91b2b38",
   "metadata": {},
   "outputs": [
    {
     "data": {
      "text/plain": [
       "False    5229\n",
       "True     1724\n",
       "Name: has_phd, dtype: int64"
      ]
     },
     "execution_count": 54,
     "metadata": {},
     "output_type": "execute_result"
    }
   ],
   "source": [
    "data['has_phd'].value_counts()"
   ]
  },
  {
   "cell_type": "code",
   "execution_count": 55,
   "id": "49fce654",
   "metadata": {},
   "outputs": [
    {
     "name": "stderr",
     "output_type": "stream",
     "text": [
      "<ipython-input-55-1b4ab29eaa1d>:1: SettingWithCopyWarning: \n",
      "A value is trying to be set on a copy of a slice from a DataFrame.\n",
      "Try using .loc[row_indexer,col_indexer] = value instead\n",
      "\n",
      "See the caveats in the documentation: https://pandas.pydata.org/pandas-docs/stable/user_guide/indexing.html#returning-a-view-versus-a-copy\n",
      "  data['has_bachelor'] = data['description'].apply(lambda x: degree_mapper(x, bachelor_degrees))\n"
     ]
    }
   ],
   "source": [
    "data['has_bachelor'] = data['description'].apply(lambda x: degree_mapper(x, bachelor_degrees))"
   ]
  },
  {
   "cell_type": "code",
   "execution_count": 56,
   "id": "6365cd4a",
   "metadata": {},
   "outputs": [
    {
     "data": {
      "text/plain": [
       "False    4833\n",
       "True     2120\n",
       "Name: has_bachelor, dtype: int64"
      ]
     },
     "execution_count": 56,
     "metadata": {},
     "output_type": "execute_result"
    }
   ],
   "source": [
    "data['has_bachelor'].value_counts()"
   ]
  },
  {
   "cell_type": "code",
   "execution_count": 57,
   "id": "8f375a20",
   "metadata": {},
   "outputs": [
    {
     "name": "stderr",
     "output_type": "stream",
     "text": [
      "<ipython-input-57-0654b040d3c7>:1: SettingWithCopyWarning: \n",
      "A value is trying to be set on a copy of a slice from a DataFrame.\n",
      "Try using .loc[row_indexer,col_indexer] = value instead\n",
      "\n",
      "See the caveats in the documentation: https://pandas.pydata.org/pandas-docs/stable/user_guide/indexing.html#returning-a-view-versus-a-copy\n",
      "  data['has_master'] = data['description'].apply(lambda x: degree_mapper(x, master_degrees))\n"
     ]
    }
   ],
   "source": [
    "data['has_master'] = data['description'].apply(lambda x: degree_mapper(x, master_degrees))"
   ]
  },
  {
   "cell_type": "code",
   "execution_count": 58,
   "id": "7feb0145",
   "metadata": {},
   "outputs": [
    {
     "data": {
      "text/plain": [
       "False    4904\n",
       "True     2049\n",
       "Name: has_master, dtype: int64"
      ]
     },
     "execution_count": 58,
     "metadata": {},
     "output_type": "execute_result"
    }
   ],
   "source": [
    "data['has_master'].value_counts()"
   ]
  },
  {
   "cell_type": "code",
   "execution_count": 59,
   "id": "4f535730",
   "metadata": {},
   "outputs": [
    {
     "data": {
      "text/html": [
       "<div>\n",
       "<style scoped>\n",
       "    .dataframe tbody tr th:only-of-type {\n",
       "        vertical-align: middle;\n",
       "    }\n",
       "\n",
       "    .dataframe tbody tr th {\n",
       "        vertical-align: top;\n",
       "    }\n",
       "\n",
       "    .dataframe thead th {\n",
       "        text-align: right;\n",
       "    }\n",
       "</style>\n",
       "<table border=\"1\" class=\"dataframe\">\n",
       "  <thead>\n",
       "    <tr style=\"text-align: right;\">\n",
       "      <th></th>\n",
       "      <th>position</th>\n",
       "      <th>company</th>\n",
       "      <th>description</th>\n",
       "      <th>reviews</th>\n",
       "      <th>location</th>\n",
       "      <th>location_clean</th>\n",
       "      <th>clean_position</th>\n",
       "      <th>city</th>\n",
       "      <th>state</th>\n",
       "      <th>python</th>\n",
       "      <th>...</th>\n",
       "      <th>excel</th>\n",
       "      <th>modeling</th>\n",
       "      <th>c++</th>\n",
       "      <th>r</th>\n",
       "      <th>visualization</th>\n",
       "      <th>ml</th>\n",
       "      <th>ai</th>\n",
       "      <th>has_phd</th>\n",
       "      <th>has_bachelor</th>\n",
       "      <th>has_master</th>\n",
       "    </tr>\n",
       "  </thead>\n",
       "  <tbody>\n",
       "    <tr>\n",
       "      <th>0</th>\n",
       "      <td>Development Director</td>\n",
       "      <td>ALS TDI</td>\n",
       "      <td>Development Director\\nALS Therapy Development ...</td>\n",
       "      <td>0.0</td>\n",
       "      <td>Atlanta, GA 30301</td>\n",
       "      <td>Atlanta, GA</td>\n",
       "      <td>other role</td>\n",
       "      <td>Atlanta</td>\n",
       "      <td>GA</td>\n",
       "      <td>False</td>\n",
       "      <td>...</td>\n",
       "      <td>False</td>\n",
       "      <td>False</td>\n",
       "      <td>False</td>\n",
       "      <td>False</td>\n",
       "      <td>False</td>\n",
       "      <td>False</td>\n",
       "      <td>False</td>\n",
       "      <td>False</td>\n",
       "      <td>True</td>\n",
       "      <td>False</td>\n",
       "    </tr>\n",
       "    <tr>\n",
       "      <th>1</th>\n",
       "      <td>An Ostentatiously-Excitable Principal Research...</td>\n",
       "      <td>The Hexagon Lavish</td>\n",
       "      <td>Job Description\\n\\n\"The road that leads to acc...</td>\n",
       "      <td>0.0</td>\n",
       "      <td>Atlanta, GA</td>\n",
       "      <td>Atlanta, GA</td>\n",
       "      <td>data scientist</td>\n",
       "      <td>Atlanta</td>\n",
       "      <td>GA</td>\n",
       "      <td>False</td>\n",
       "      <td>...</td>\n",
       "      <td>False</td>\n",
       "      <td>True</td>\n",
       "      <td>False</td>\n",
       "      <td>False</td>\n",
       "      <td>False</td>\n",
       "      <td>False</td>\n",
       "      <td>False</td>\n",
       "      <td>False</td>\n",
       "      <td>False</td>\n",
       "      <td>True</td>\n",
       "    </tr>\n",
       "    <tr>\n",
       "      <th>2</th>\n",
       "      <td>Data Scientist</td>\n",
       "      <td>Xpert Staffing</td>\n",
       "      <td>Growing company located in the Atlanta, GA are...</td>\n",
       "      <td>0.0</td>\n",
       "      <td>Atlanta, GA</td>\n",
       "      <td>Atlanta, GA</td>\n",
       "      <td>data scientist</td>\n",
       "      <td>Atlanta</td>\n",
       "      <td>GA</td>\n",
       "      <td>True</td>\n",
       "      <td>...</td>\n",
       "      <td>False</td>\n",
       "      <td>True</td>\n",
       "      <td>True</td>\n",
       "      <td>False</td>\n",
       "      <td>True</td>\n",
       "      <td>True</td>\n",
       "      <td>False</td>\n",
       "      <td>False</td>\n",
       "      <td>False</td>\n",
       "      <td>True</td>\n",
       "    </tr>\n",
       "    <tr>\n",
       "      <th>3</th>\n",
       "      <td>Data Analyst</td>\n",
       "      <td>Operation HOPE</td>\n",
       "      <td>DEPARTMENT: Program OperationsPOSITION LOCATIO...</td>\n",
       "      <td>44.0</td>\n",
       "      <td>Atlanta, GA 30303</td>\n",
       "      <td>Atlanta, GA</td>\n",
       "      <td>data analyst</td>\n",
       "      <td>Atlanta</td>\n",
       "      <td>GA</td>\n",
       "      <td>True</td>\n",
       "      <td>...</td>\n",
       "      <td>False</td>\n",
       "      <td>True</td>\n",
       "      <td>False</td>\n",
       "      <td>False</td>\n",
       "      <td>True</td>\n",
       "      <td>False</td>\n",
       "      <td>False</td>\n",
       "      <td>False</td>\n",
       "      <td>True</td>\n",
       "      <td>False</td>\n",
       "    </tr>\n",
       "    <tr>\n",
       "      <th>4</th>\n",
       "      <td>Assistant Professor -TT - Signal Processing &amp; ...</td>\n",
       "      <td>Emory University</td>\n",
       "      <td>DESCRIPTION\\nThe Emory University Department o...</td>\n",
       "      <td>550.0</td>\n",
       "      <td>Atlanta, GA</td>\n",
       "      <td>Atlanta, GA</td>\n",
       "      <td>other role</td>\n",
       "      <td>Atlanta</td>\n",
       "      <td>GA</td>\n",
       "      <td>False</td>\n",
       "      <td>...</td>\n",
       "      <td>False</td>\n",
       "      <td>False</td>\n",
       "      <td>False</td>\n",
       "      <td>False</td>\n",
       "      <td>False</td>\n",
       "      <td>True</td>\n",
       "      <td>False</td>\n",
       "      <td>True</td>\n",
       "      <td>False</td>\n",
       "      <td>False</td>\n",
       "    </tr>\n",
       "  </tbody>\n",
       "</table>\n",
       "<p>5 rows × 24 columns</p>\n",
       "</div>"
      ],
      "text/plain": [
       "                                            position             company  \\\n",
       "0                               Development Director             ALS TDI   \n",
       "1  An Ostentatiously-Excitable Principal Research...  The Hexagon Lavish   \n",
       "2                                     Data Scientist      Xpert Staffing   \n",
       "3                                       Data Analyst      Operation HOPE   \n",
       "4  Assistant Professor -TT - Signal Processing & ...    Emory University   \n",
       "\n",
       "                                         description  reviews  \\\n",
       "0  Development Director\\nALS Therapy Development ...      0.0   \n",
       "1  Job Description\\n\\n\"The road that leads to acc...      0.0   \n",
       "2  Growing company located in the Atlanta, GA are...      0.0   \n",
       "3  DEPARTMENT: Program OperationsPOSITION LOCATIO...     44.0   \n",
       "4  DESCRIPTION\\nThe Emory University Department o...    550.0   \n",
       "\n",
       "             location location_clean  clean_position     city state  python  \\\n",
       "0  Atlanta, GA 30301     Atlanta, GA      other role  Atlanta    GA   False   \n",
       "1         Atlanta, GA    Atlanta, GA  data scientist  Atlanta    GA   False   \n",
       "2         Atlanta, GA    Atlanta, GA  data scientist  Atlanta    GA    True   \n",
       "3  Atlanta, GA 30303     Atlanta, GA    data analyst  Atlanta    GA    True   \n",
       "4         Atlanta, GA    Atlanta, GA      other role  Atlanta    GA   False   \n",
       "\n",
       "   ...  excel  modeling    c++      r  visualization     ml     ai  has_phd  \\\n",
       "0  ...  False     False  False  False          False  False  False    False   \n",
       "1  ...  False      True  False  False          False  False  False    False   \n",
       "2  ...  False      True   True  False           True   True  False    False   \n",
       "3  ...  False      True  False  False           True  False  False    False   \n",
       "4  ...  False     False  False  False          False   True  False     True   \n",
       "\n",
       "   has_bachelor  has_master  \n",
       "0          True       False  \n",
       "1         False        True  \n",
       "2         False        True  \n",
       "3          True       False  \n",
       "4         False       False  \n",
       "\n",
       "[5 rows x 24 columns]"
      ]
     },
     "execution_count": 59,
     "metadata": {},
     "output_type": "execute_result"
    }
   ],
   "source": [
    "data.head()"
   ]
  },
  {
   "cell_type": "code",
   "execution_count": 60,
   "id": "3e862982",
   "metadata": {},
   "outputs": [],
   "source": [
    "data_clean = data.drop(['description','location_clean','location'],axis=1)"
   ]
  },
  {
   "cell_type": "code",
   "execution_count": 61,
   "id": "62b69613",
   "metadata": {},
   "outputs": [],
   "source": [
    "data_clean.reset_index(drop=True, inplace=True)"
   ]
  },
  {
   "cell_type": "code",
   "execution_count": 62,
   "id": "e4bb3376",
   "metadata": {},
   "outputs": [
    {
     "data": {
      "text/html": [
       "<div>\n",
       "<style scoped>\n",
       "    .dataframe tbody tr th:only-of-type {\n",
       "        vertical-align: middle;\n",
       "    }\n",
       "\n",
       "    .dataframe tbody tr th {\n",
       "        vertical-align: top;\n",
       "    }\n",
       "\n",
       "    .dataframe thead th {\n",
       "        text-align: right;\n",
       "    }\n",
       "</style>\n",
       "<table border=\"1\" class=\"dataframe\">\n",
       "  <thead>\n",
       "    <tr style=\"text-align: right;\">\n",
       "      <th></th>\n",
       "      <th>position</th>\n",
       "      <th>company</th>\n",
       "      <th>reviews</th>\n",
       "      <th>clean_position</th>\n",
       "      <th>city</th>\n",
       "      <th>state</th>\n",
       "      <th>python</th>\n",
       "      <th>statistics</th>\n",
       "      <th>mathematics</th>\n",
       "      <th>java</th>\n",
       "      <th>...</th>\n",
       "      <th>excel</th>\n",
       "      <th>modeling</th>\n",
       "      <th>c++</th>\n",
       "      <th>r</th>\n",
       "      <th>visualization</th>\n",
       "      <th>ml</th>\n",
       "      <th>ai</th>\n",
       "      <th>has_phd</th>\n",
       "      <th>has_bachelor</th>\n",
       "      <th>has_master</th>\n",
       "    </tr>\n",
       "  </thead>\n",
       "  <tbody>\n",
       "    <tr>\n",
       "      <th>0</th>\n",
       "      <td>Development Director</td>\n",
       "      <td>ALS TDI</td>\n",
       "      <td>0.0</td>\n",
       "      <td>other role</td>\n",
       "      <td>Atlanta</td>\n",
       "      <td>GA</td>\n",
       "      <td>False</td>\n",
       "      <td>False</td>\n",
       "      <td>False</td>\n",
       "      <td>False</td>\n",
       "      <td>...</td>\n",
       "      <td>False</td>\n",
       "      <td>False</td>\n",
       "      <td>False</td>\n",
       "      <td>False</td>\n",
       "      <td>False</td>\n",
       "      <td>False</td>\n",
       "      <td>False</td>\n",
       "      <td>False</td>\n",
       "      <td>True</td>\n",
       "      <td>False</td>\n",
       "    </tr>\n",
       "    <tr>\n",
       "      <th>1</th>\n",
       "      <td>An Ostentatiously-Excitable Principal Research...</td>\n",
       "      <td>The Hexagon Lavish</td>\n",
       "      <td>0.0</td>\n",
       "      <td>data scientist</td>\n",
       "      <td>Atlanta</td>\n",
       "      <td>GA</td>\n",
       "      <td>False</td>\n",
       "      <td>True</td>\n",
       "      <td>True</td>\n",
       "      <td>False</td>\n",
       "      <td>...</td>\n",
       "      <td>False</td>\n",
       "      <td>True</td>\n",
       "      <td>False</td>\n",
       "      <td>False</td>\n",
       "      <td>False</td>\n",
       "      <td>False</td>\n",
       "      <td>False</td>\n",
       "      <td>False</td>\n",
       "      <td>False</td>\n",
       "      <td>True</td>\n",
       "    </tr>\n",
       "    <tr>\n",
       "      <th>2</th>\n",
       "      <td>Data Scientist</td>\n",
       "      <td>Xpert Staffing</td>\n",
       "      <td>0.0</td>\n",
       "      <td>data scientist</td>\n",
       "      <td>Atlanta</td>\n",
       "      <td>GA</td>\n",
       "      <td>True</td>\n",
       "      <td>False</td>\n",
       "      <td>False</td>\n",
       "      <td>True</td>\n",
       "      <td>...</td>\n",
       "      <td>False</td>\n",
       "      <td>True</td>\n",
       "      <td>True</td>\n",
       "      <td>False</td>\n",
       "      <td>True</td>\n",
       "      <td>True</td>\n",
       "      <td>False</td>\n",
       "      <td>False</td>\n",
       "      <td>False</td>\n",
       "      <td>True</td>\n",
       "    </tr>\n",
       "    <tr>\n",
       "      <th>3</th>\n",
       "      <td>Data Analyst</td>\n",
       "      <td>Operation HOPE</td>\n",
       "      <td>44.0</td>\n",
       "      <td>data analyst</td>\n",
       "      <td>Atlanta</td>\n",
       "      <td>GA</td>\n",
       "      <td>True</td>\n",
       "      <td>False</td>\n",
       "      <td>False</td>\n",
       "      <td>False</td>\n",
       "      <td>...</td>\n",
       "      <td>False</td>\n",
       "      <td>True</td>\n",
       "      <td>False</td>\n",
       "      <td>False</td>\n",
       "      <td>True</td>\n",
       "      <td>False</td>\n",
       "      <td>False</td>\n",
       "      <td>False</td>\n",
       "      <td>True</td>\n",
       "      <td>False</td>\n",
       "    </tr>\n",
       "    <tr>\n",
       "      <th>4</th>\n",
       "      <td>Assistant Professor -TT - Signal Processing &amp; ...</td>\n",
       "      <td>Emory University</td>\n",
       "      <td>550.0</td>\n",
       "      <td>other role</td>\n",
       "      <td>Atlanta</td>\n",
       "      <td>GA</td>\n",
       "      <td>False</td>\n",
       "      <td>False</td>\n",
       "      <td>False</td>\n",
       "      <td>False</td>\n",
       "      <td>...</td>\n",
       "      <td>False</td>\n",
       "      <td>False</td>\n",
       "      <td>False</td>\n",
       "      <td>False</td>\n",
       "      <td>False</td>\n",
       "      <td>True</td>\n",
       "      <td>False</td>\n",
       "      <td>True</td>\n",
       "      <td>False</td>\n",
       "      <td>False</td>\n",
       "    </tr>\n",
       "    <tr>\n",
       "      <th>...</th>\n",
       "      <td>...</td>\n",
       "      <td>...</td>\n",
       "      <td>...</td>\n",
       "      <td>...</td>\n",
       "      <td>...</td>\n",
       "      <td>...</td>\n",
       "      <td>...</td>\n",
       "      <td>...</td>\n",
       "      <td>...</td>\n",
       "      <td>...</td>\n",
       "      <td>...</td>\n",
       "      <td>...</td>\n",
       "      <td>...</td>\n",
       "      <td>...</td>\n",
       "      <td>...</td>\n",
       "      <td>...</td>\n",
       "      <td>...</td>\n",
       "      <td>...</td>\n",
       "      <td>...</td>\n",
       "      <td>...</td>\n",
       "      <td>...</td>\n",
       "    </tr>\n",
       "    <tr>\n",
       "      <th>6948</th>\n",
       "      <td>Data Developer / Machine Learning Analyst</td>\n",
       "      <td>NetApp</td>\n",
       "      <td>574.0</td>\n",
       "      <td>data analyst</td>\n",
       "      <td>Sunnyvale</td>\n",
       "      <td>CA</td>\n",
       "      <td>True</td>\n",
       "      <td>False</td>\n",
       "      <td>False</td>\n",
       "      <td>True</td>\n",
       "      <td>...</td>\n",
       "      <td>True</td>\n",
       "      <td>False</td>\n",
       "      <td>False</td>\n",
       "      <td>False</td>\n",
       "      <td>False</td>\n",
       "      <td>True</td>\n",
       "      <td>False</td>\n",
       "      <td>False</td>\n",
       "      <td>True</td>\n",
       "      <td>False</td>\n",
       "    </tr>\n",
       "    <tr>\n",
       "      <th>6949</th>\n",
       "      <td>Scientist I</td>\n",
       "      <td>Pharmacyclics, an Abbvie Company</td>\n",
       "      <td>26.0</td>\n",
       "      <td>data scientist</td>\n",
       "      <td>Sunnyvale</td>\n",
       "      <td>CA</td>\n",
       "      <td>False</td>\n",
       "      <td>False</td>\n",
       "      <td>False</td>\n",
       "      <td>False</td>\n",
       "      <td>...</td>\n",
       "      <td>True</td>\n",
       "      <td>False</td>\n",
       "      <td>False</td>\n",
       "      <td>True</td>\n",
       "      <td>False</td>\n",
       "      <td>False</td>\n",
       "      <td>False</td>\n",
       "      <td>False</td>\n",
       "      <td>True</td>\n",
       "      <td>True</td>\n",
       "    </tr>\n",
       "    <tr>\n",
       "      <th>6950</th>\n",
       "      <td>Intern Scientist</td>\n",
       "      <td>Oath Inc</td>\n",
       "      <td>5.0</td>\n",
       "      <td>data scientist</td>\n",
       "      <td>Sunnyvale</td>\n",
       "      <td>CA</td>\n",
       "      <td>True</td>\n",
       "      <td>True</td>\n",
       "      <td>True</td>\n",
       "      <td>True</td>\n",
       "      <td>...</td>\n",
       "      <td>False</td>\n",
       "      <td>False</td>\n",
       "      <td>True</td>\n",
       "      <td>False</td>\n",
       "      <td>False</td>\n",
       "      <td>True</td>\n",
       "      <td>False</td>\n",
       "      <td>True</td>\n",
       "      <td>False</td>\n",
       "      <td>False</td>\n",
       "    </tr>\n",
       "    <tr>\n",
       "      <th>6951</th>\n",
       "      <td>Senior Data &amp; Applied Scientist</td>\n",
       "      <td>Microsoft</td>\n",
       "      <td>4618.0</td>\n",
       "      <td>data scientist</td>\n",
       "      <td>Sunnyvale</td>\n",
       "      <td>CA</td>\n",
       "      <td>False</td>\n",
       "      <td>False</td>\n",
       "      <td>False</td>\n",
       "      <td>True</td>\n",
       "      <td>...</td>\n",
       "      <td>False</td>\n",
       "      <td>False</td>\n",
       "      <td>True</td>\n",
       "      <td>False</td>\n",
       "      <td>False</td>\n",
       "      <td>True</td>\n",
       "      <td>False</td>\n",
       "      <td>False</td>\n",
       "      <td>False</td>\n",
       "      <td>False</td>\n",
       "    </tr>\n",
       "    <tr>\n",
       "      <th>6952</th>\n",
       "      <td>Principal Data Scientist, Deep Learning</td>\n",
       "      <td>Comcast</td>\n",
       "      <td>11610.0</td>\n",
       "      <td>data scientist</td>\n",
       "      <td>Sunnyvale</td>\n",
       "      <td>CA</td>\n",
       "      <td>True</td>\n",
       "      <td>True</td>\n",
       "      <td>True</td>\n",
       "      <td>True</td>\n",
       "      <td>...</td>\n",
       "      <td>False</td>\n",
       "      <td>False</td>\n",
       "      <td>True</td>\n",
       "      <td>False</td>\n",
       "      <td>True</td>\n",
       "      <td>True</td>\n",
       "      <td>True</td>\n",
       "      <td>False</td>\n",
       "      <td>True</td>\n",
       "      <td>True</td>\n",
       "    </tr>\n",
       "  </tbody>\n",
       "</table>\n",
       "<p>6953 rows × 21 columns</p>\n",
       "</div>"
      ],
      "text/plain": [
       "                                               position  \\\n",
       "0                                  Development Director   \n",
       "1     An Ostentatiously-Excitable Principal Research...   \n",
       "2                                        Data Scientist   \n",
       "3                                          Data Analyst   \n",
       "4     Assistant Professor -TT - Signal Processing & ...   \n",
       "...                                                 ...   \n",
       "6948          Data Developer / Machine Learning Analyst   \n",
       "6949                                        Scientist I   \n",
       "6950                                   Intern Scientist   \n",
       "6951                    Senior Data & Applied Scientist   \n",
       "6952            Principal Data Scientist, Deep Learning   \n",
       "\n",
       "                               company  reviews  clean_position       city  \\\n",
       "0                              ALS TDI      0.0      other role    Atlanta   \n",
       "1                   The Hexagon Lavish      0.0  data scientist    Atlanta   \n",
       "2                       Xpert Staffing      0.0  data scientist    Atlanta   \n",
       "3                       Operation HOPE     44.0    data analyst    Atlanta   \n",
       "4                     Emory University    550.0      other role    Atlanta   \n",
       "...                                ...      ...             ...        ...   \n",
       "6948                            NetApp    574.0    data analyst  Sunnyvale   \n",
       "6949  Pharmacyclics, an Abbvie Company     26.0  data scientist  Sunnyvale   \n",
       "6950                          Oath Inc      5.0  data scientist  Sunnyvale   \n",
       "6951                         Microsoft   4618.0  data scientist  Sunnyvale   \n",
       "6952                           Comcast  11610.0  data scientist  Sunnyvale   \n",
       "\n",
       "     state  python  statistics  mathematics   java  ...  excel  modeling  \\\n",
       "0       GA   False       False        False  False  ...  False     False   \n",
       "1       GA   False        True         True  False  ...  False      True   \n",
       "2       GA    True       False        False   True  ...  False      True   \n",
       "3       GA    True       False        False  False  ...  False      True   \n",
       "4       GA   False       False        False  False  ...  False     False   \n",
       "...    ...     ...         ...          ...    ...  ...    ...       ...   \n",
       "6948    CA    True       False        False   True  ...   True     False   \n",
       "6949    CA   False       False        False  False  ...   True     False   \n",
       "6950    CA    True        True         True   True  ...  False     False   \n",
       "6951    CA   False       False        False   True  ...  False     False   \n",
       "6952    CA    True        True         True   True  ...  False     False   \n",
       "\n",
       "        c++      r  visualization     ml     ai  has_phd  has_bachelor  \\\n",
       "0     False  False          False  False  False    False          True   \n",
       "1     False  False          False  False  False    False         False   \n",
       "2      True  False           True   True  False    False         False   \n",
       "3     False  False           True  False  False    False          True   \n",
       "4     False  False          False   True  False     True         False   \n",
       "...     ...    ...            ...    ...    ...      ...           ...   \n",
       "6948  False  False          False   True  False    False          True   \n",
       "6949  False   True          False  False  False    False          True   \n",
       "6950   True  False          False   True  False     True         False   \n",
       "6951   True  False          False   True  False    False         False   \n",
       "6952   True  False           True   True   True    False          True   \n",
       "\n",
       "      has_master  \n",
       "0          False  \n",
       "1           True  \n",
       "2           True  \n",
       "3          False  \n",
       "4          False  \n",
       "...          ...  \n",
       "6948       False  \n",
       "6949        True  \n",
       "6950       False  \n",
       "6951       False  \n",
       "6952        True  \n",
       "\n",
       "[6953 rows x 21 columns]"
      ]
     },
     "execution_count": 62,
     "metadata": {},
     "output_type": "execute_result"
    }
   ],
   "source": [
    "data_clean"
   ]
  },
  {
   "cell_type": "code",
   "execution_count": 65,
   "id": "dab1a3d3",
   "metadata": {},
   "outputs": [],
   "source": [
    "data_clean.to_csv('data_cleaned.csv',index=False)"
   ]
  },
  {
   "cell_type": "code",
   "execution_count": 66,
   "id": "b41e0c74",
   "metadata": {},
   "outputs": [
    {
     "name": "stdout",
     "output_type": "stream",
     "text": [
      "DataJobs Cleaning.ipynb    alldata.csv\r\n",
      "GroupLab1_city&state.ipynb alldata.xlsx\r\n",
      "README.md                  data_cleaned.csv\r\n",
      "alldata.cleaning.xlsx\r\n"
     ]
    }
   ],
   "source": [
    "!ls"
   ]
  },
  {
   "cell_type": "code",
   "execution_count": null,
   "id": "6983b531",
   "metadata": {},
   "outputs": [],
   "source": []
  }
 ],
 "metadata": {
  "kernelspec": {
   "display_name": "Python 3",
   "language": "python",
   "name": "python3"
  },
  "language_info": {
   "codemirror_mode": {
    "name": "ipython",
    "version": 3
   },
   "file_extension": ".py",
   "mimetype": "text/x-python",
   "name": "python",
   "nbconvert_exporter": "python",
   "pygments_lexer": "ipython3",
   "version": "3.8.8"
  }
 },
 "nbformat": 4,
 "nbformat_minor": 5
}
